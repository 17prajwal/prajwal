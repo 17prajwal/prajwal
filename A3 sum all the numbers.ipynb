{
 "cells": [
  {
   "cell_type": "code",
   "execution_count": 30,
   "metadata": {},
   "outputs": [
    {
     "name": "stdout",
     "output_type": "stream",
     "text": [
      "Enter the numbers to add:82307\n",
      "The total sum is 20\n"
     ]
    }
   ],
   "source": [
    "def sum_of_list(list):\n",
    "    ans=0\n",
    "    for i in list:\n",
    "        ans=ans+i\n",
    "    print('The total sum is',ans)\n",
    "list_of_str=list(input(\"Enter the numbers to add:\"))\n",
    "list_of_num=[]\n",
    "for i in list_of_str:\n",
    "    digit=int(i)\n",
    "    list_of_num.append(digit)\n",
    "sum_of_list(list_of_num)"
   ]
  },
  {
   "cell_type": "code",
   "execution_count": null,
   "metadata": {},
   "outputs": [],
   "source": []
  }
 ],
 "metadata": {
  "kernelspec": {
   "display_name": "Python 3",
   "language": "python",
   "name": "python3"
  },
  "language_info": {
   "codemirror_mode": {
    "name": "ipython",
    "version": 3
   },
   "file_extension": ".py",
   "mimetype": "text/x-python",
   "name": "python",
   "nbconvert_exporter": "python",
   "pygments_lexer": "ipython3",
   "version": "3.8.5"
  }
 },
 "nbformat": 4,
 "nbformat_minor": 4
}
